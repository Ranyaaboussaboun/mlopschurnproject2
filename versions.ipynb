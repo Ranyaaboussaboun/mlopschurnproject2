{
 "cells": [
  {
   "cell_type": "code",
   "execution_count": 1,
   "metadata": {},
   "outputs": [
    {
     "name": "stdout",
     "output_type": "stream",
     "text": [
      "Pd 1.5.3\n",
      "Sklearn: 1.2.2\n",
      "Streamlit : 1.27.1\n",
      "pycaret 3.2.0\n",
      "mlflow 2.8.1\n"
     ]
    }
   ],
   "source": [
    "import streamlit\n",
    "import pandas as pd\n",
    "import sklearn\n",
    "import pycaret\n",
    "import mlflow\n",
    "print(\"Pd\", pd.__version__)\n",
    "print(\"Sklearn:\", sklearn.__version__)\n",
    "print(\"Streamlit :\", streamlit.__version__)\n",
    "print(\"pycaret\", pycaret.__version__)\n",
    "print(\"mlflow\", mlflow.__version__)\n",
    "\n"
   ]
  },
  {
   "cell_type": "code",
   "execution_count": null,
   "metadata": {},
   "outputs": [],
   "source": []
  }
 ],
 "metadata": {
  "kernelspec": {
   "display_name": "mlops",
   "language": "python",
   "name": "python3"
  },
  "language_info": {
   "codemirror_mode": {
    "name": "ipython",
    "version": 3
   },
   "file_extension": ".py",
   "mimetype": "text/x-python",
   "name": "python",
   "nbconvert_exporter": "python",
   "pygments_lexer": "ipython3",
   "version": "3.10.9"
  }
 },
 "nbformat": 4,
 "nbformat_minor": 2
}
