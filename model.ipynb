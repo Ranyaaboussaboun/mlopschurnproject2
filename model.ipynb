{
 "cells": [
  {
   "cell_type": "code",
   "execution_count": 1,
   "metadata": {},
   "outputs": [],
   "source": [
    "import os\n",
    "os.environ['MLFLOW_TRACKING_USERNAME']= \"aboussabounrania\"\n",
    "os.environ[\"MLFLOW_TRACKING_PASSWORD\"] = \"271960fb514a607ea667c6792df82c4fc9571162\"\n"
   ]
  },
  {
   "cell_type": "code",
   "execution_count": 2,
   "metadata": {},
   "outputs": [],
   "source": [
    "\n",
    "os.environ['MLFLOW_TRACKING_URI'] = 'https://dagshub.com/aboussabounrania/mlopschurnproject.mlflow'\n",
    "os.environ[\"PYCARET_CUSTOM_LOGGING_LEVEL\"] = \"CRITICAL\""
   ]
  },
  {
   "cell_type": "code",
   "execution_count": 3,
   "metadata": {},
   "outputs": [
    {
     "data": {
      "text/html": [
       "<div>\n",
       "<style scoped>\n",
       "    .dataframe tbody tr th:only-of-type {\n",
       "        vertical-align: middle;\n",
       "    }\n",
       "\n",
       "    .dataframe tbody tr th {\n",
       "        vertical-align: top;\n",
       "    }\n",
       "\n",
       "    .dataframe thead th {\n",
       "        text-align: right;\n",
       "    }\n",
       "</style>\n",
       "<table border=\"1\" class=\"dataframe\">\n",
       "  <thead>\n",
       "    <tr style=\"text-align: right;\">\n",
       "      <th></th>\n",
       "      <th>Unnamed: 0</th>\n",
       "      <th>customerID</th>\n",
       "      <th>gender</th>\n",
       "      <th>SeniorCitizen</th>\n",
       "      <th>Partner</th>\n",
       "      <th>Dependents</th>\n",
       "      <th>tenure</th>\n",
       "      <th>PhoneService</th>\n",
       "      <th>MultipleLines</th>\n",
       "      <th>InternetService</th>\n",
       "      <th>...</th>\n",
       "      <th>DeviceProtection</th>\n",
       "      <th>TechSupport</th>\n",
       "      <th>StreamingTV</th>\n",
       "      <th>StreamingMovies</th>\n",
       "      <th>Contract</th>\n",
       "      <th>PaperlessBilling</th>\n",
       "      <th>PaymentMethod</th>\n",
       "      <th>MonthlyCharges</th>\n",
       "      <th>TotalCharges</th>\n",
       "      <th>Churn</th>\n",
       "    </tr>\n",
       "  </thead>\n",
       "  <tbody>\n",
       "    <tr>\n",
       "      <th>0</th>\n",
       "      <td>0</td>\n",
       "      <td>7590-VHVEG</td>\n",
       "      <td>Female</td>\n",
       "      <td>0</td>\n",
       "      <td>Yes</td>\n",
       "      <td>No</td>\n",
       "      <td>1</td>\n",
       "      <td>No</td>\n",
       "      <td>No phone service</td>\n",
       "      <td>DSL</td>\n",
       "      <td>...</td>\n",
       "      <td>No</td>\n",
       "      <td>No</td>\n",
       "      <td>No</td>\n",
       "      <td>No</td>\n",
       "      <td>Month-to-month</td>\n",
       "      <td>Yes</td>\n",
       "      <td>Electronic check</td>\n",
       "      <td>29.85</td>\n",
       "      <td>29.85</td>\n",
       "      <td>No</td>\n",
       "    </tr>\n",
       "    <tr>\n",
       "      <th>1</th>\n",
       "      <td>1</td>\n",
       "      <td>5575-GNVDE</td>\n",
       "      <td>Male</td>\n",
       "      <td>0</td>\n",
       "      <td>No</td>\n",
       "      <td>No</td>\n",
       "      <td>34</td>\n",
       "      <td>Yes</td>\n",
       "      <td>No</td>\n",
       "      <td>DSL</td>\n",
       "      <td>...</td>\n",
       "      <td>Yes</td>\n",
       "      <td>No</td>\n",
       "      <td>No</td>\n",
       "      <td>No</td>\n",
       "      <td>One year</td>\n",
       "      <td>No</td>\n",
       "      <td>Mailed check</td>\n",
       "      <td>56.95</td>\n",
       "      <td>1889.50</td>\n",
       "      <td>No</td>\n",
       "    </tr>\n",
       "    <tr>\n",
       "      <th>2</th>\n",
       "      <td>2</td>\n",
       "      <td>3668-QPYBK</td>\n",
       "      <td>Male</td>\n",
       "      <td>0</td>\n",
       "      <td>No</td>\n",
       "      <td>No</td>\n",
       "      <td>2</td>\n",
       "      <td>Yes</td>\n",
       "      <td>No</td>\n",
       "      <td>DSL</td>\n",
       "      <td>...</td>\n",
       "      <td>No</td>\n",
       "      <td>No</td>\n",
       "      <td>No</td>\n",
       "      <td>No</td>\n",
       "      <td>Month-to-month</td>\n",
       "      <td>Yes</td>\n",
       "      <td>Mailed check</td>\n",
       "      <td>53.85</td>\n",
       "      <td>108.15</td>\n",
       "      <td>Yes</td>\n",
       "    </tr>\n",
       "    <tr>\n",
       "      <th>3</th>\n",
       "      <td>3</td>\n",
       "      <td>7795-CFOCW</td>\n",
       "      <td>Male</td>\n",
       "      <td>0</td>\n",
       "      <td>No</td>\n",
       "      <td>No</td>\n",
       "      <td>45</td>\n",
       "      <td>No</td>\n",
       "      <td>No phone service</td>\n",
       "      <td>DSL</td>\n",
       "      <td>...</td>\n",
       "      <td>Yes</td>\n",
       "      <td>Yes</td>\n",
       "      <td>No</td>\n",
       "      <td>No</td>\n",
       "      <td>One year</td>\n",
       "      <td>No</td>\n",
       "      <td>Bank transfer (automatic)</td>\n",
       "      <td>42.30</td>\n",
       "      <td>1840.75</td>\n",
       "      <td>No</td>\n",
       "    </tr>\n",
       "    <tr>\n",
       "      <th>4</th>\n",
       "      <td>4</td>\n",
       "      <td>9237-HQITU</td>\n",
       "      <td>Female</td>\n",
       "      <td>0</td>\n",
       "      <td>No</td>\n",
       "      <td>No</td>\n",
       "      <td>2</td>\n",
       "      <td>Yes</td>\n",
       "      <td>No</td>\n",
       "      <td>Fiber optic</td>\n",
       "      <td>...</td>\n",
       "      <td>No</td>\n",
       "      <td>No</td>\n",
       "      <td>No</td>\n",
       "      <td>No</td>\n",
       "      <td>Month-to-month</td>\n",
       "      <td>Yes</td>\n",
       "      <td>Electronic check</td>\n",
       "      <td>70.70</td>\n",
       "      <td>151.65</td>\n",
       "      <td>Yes</td>\n",
       "    </tr>\n",
       "  </tbody>\n",
       "</table>\n",
       "<p>5 rows × 22 columns</p>\n",
       "</div>"
      ],
      "text/plain": [
       "   Unnamed: 0  customerID  gender  SeniorCitizen Partner Dependents  tenure  \\\n",
       "0           0  7590-VHVEG  Female              0     Yes         No       1   \n",
       "1           1  5575-GNVDE    Male              0      No         No      34   \n",
       "2           2  3668-QPYBK    Male              0      No         No       2   \n",
       "3           3  7795-CFOCW    Male              0      No         No      45   \n",
       "4           4  9237-HQITU  Female              0      No         No       2   \n",
       "\n",
       "  PhoneService     MultipleLines InternetService  ... DeviceProtection  \\\n",
       "0           No  No phone service             DSL  ...               No   \n",
       "1          Yes                No             DSL  ...              Yes   \n",
       "2          Yes                No             DSL  ...               No   \n",
       "3           No  No phone service             DSL  ...              Yes   \n",
       "4          Yes                No     Fiber optic  ...               No   \n",
       "\n",
       "  TechSupport StreamingTV StreamingMovies        Contract PaperlessBilling  \\\n",
       "0          No          No              No  Month-to-month              Yes   \n",
       "1          No          No              No        One year               No   \n",
       "2          No          No              No  Month-to-month              Yes   \n",
       "3         Yes          No              No        One year               No   \n",
       "4          No          No              No  Month-to-month              Yes   \n",
       "\n",
       "               PaymentMethod MonthlyCharges TotalCharges  Churn  \n",
       "0           Electronic check          29.85        29.85     No  \n",
       "1               Mailed check          56.95      1889.50     No  \n",
       "2               Mailed check          53.85       108.15    Yes  \n",
       "3  Bank transfer (automatic)          42.30      1840.75     No  \n",
       "4           Electronic check          70.70       151.65    Yes  \n",
       "\n",
       "[5 rows x 22 columns]"
      ]
     },
     "execution_count": 3,
     "metadata": {},
     "output_type": "execute_result"
    }
   ],
   "source": [
    "import pandas as pd\n",
    "data = pd.read_csv('final_data.csv')\n",
    "data.head()"
   ]
  },
  {
   "cell_type": "code",
   "execution_count": 4,
   "metadata": {},
   "outputs": [
    {
     "data": {
      "text/html": [
       "<style type=\"text/css\">\n",
       "#T_0e2d6_row13_col1 {\n",
       "  background-color: lightgreen;\n",
       "}\n",
       "</style>\n",
       "<table id=\"T_0e2d6\">\n",
       "  <thead>\n",
       "    <tr>\n",
       "      <th class=\"blank level0\" >&nbsp;</th>\n",
       "      <th id=\"T_0e2d6_level0_col0\" class=\"col_heading level0 col0\" >Description</th>\n",
       "      <th id=\"T_0e2d6_level0_col1\" class=\"col_heading level0 col1\" >Value</th>\n",
       "    </tr>\n",
       "  </thead>\n",
       "  <tbody>\n",
       "    <tr>\n",
       "      <th id=\"T_0e2d6_level0_row0\" class=\"row_heading level0 row0\" >0</th>\n",
       "      <td id=\"T_0e2d6_row0_col0\" class=\"data row0 col0\" >Session id</td>\n",
       "      <td id=\"T_0e2d6_row0_col1\" class=\"data row0 col1\" >123</td>\n",
       "    </tr>\n",
       "    <tr>\n",
       "      <th id=\"T_0e2d6_level0_row1\" class=\"row_heading level0 row1\" >1</th>\n",
       "      <td id=\"T_0e2d6_row1_col0\" class=\"data row1 col0\" >Target</td>\n",
       "      <td id=\"T_0e2d6_row1_col1\" class=\"data row1 col1\" >Churn</td>\n",
       "    </tr>\n",
       "    <tr>\n",
       "      <th id=\"T_0e2d6_level0_row2\" class=\"row_heading level0 row2\" >2</th>\n",
       "      <td id=\"T_0e2d6_row2_col0\" class=\"data row2 col0\" >Target type</td>\n",
       "      <td id=\"T_0e2d6_row2_col1\" class=\"data row2 col1\" >Binary</td>\n",
       "    </tr>\n",
       "    <tr>\n",
       "      <th id=\"T_0e2d6_level0_row3\" class=\"row_heading level0 row3\" >3</th>\n",
       "      <td id=\"T_0e2d6_row3_col0\" class=\"data row3 col0\" >Target mapping</td>\n",
       "      <td id=\"T_0e2d6_row3_col1\" class=\"data row3 col1\" >No: 0, Yes: 1</td>\n",
       "    </tr>\n",
       "    <tr>\n",
       "      <th id=\"T_0e2d6_level0_row4\" class=\"row_heading level0 row4\" >4</th>\n",
       "      <td id=\"T_0e2d6_row4_col0\" class=\"data row4 col0\" >Original data shape</td>\n",
       "      <td id=\"T_0e2d6_row4_col1\" class=\"data row4 col1\" >(7043, 22)</td>\n",
       "    </tr>\n",
       "    <tr>\n",
       "      <th id=\"T_0e2d6_level0_row5\" class=\"row_heading level0 row5\" >5</th>\n",
       "      <td id=\"T_0e2d6_row5_col0\" class=\"data row5 col0\" >Transformed data shape</td>\n",
       "      <td id=\"T_0e2d6_row5_col1\" class=\"data row5 col1\" >(7043, 42)</td>\n",
       "    </tr>\n",
       "    <tr>\n",
       "      <th id=\"T_0e2d6_level0_row6\" class=\"row_heading level0 row6\" >6</th>\n",
       "      <td id=\"T_0e2d6_row6_col0\" class=\"data row6 col0\" >Transformed train set shape</td>\n",
       "      <td id=\"T_0e2d6_row6_col1\" class=\"data row6 col1\" >(4930, 42)</td>\n",
       "    </tr>\n",
       "    <tr>\n",
       "      <th id=\"T_0e2d6_level0_row7\" class=\"row_heading level0 row7\" >7</th>\n",
       "      <td id=\"T_0e2d6_row7_col0\" class=\"data row7 col0\" >Transformed test set shape</td>\n",
       "      <td id=\"T_0e2d6_row7_col1\" class=\"data row7 col1\" >(2113, 42)</td>\n",
       "    </tr>\n",
       "    <tr>\n",
       "      <th id=\"T_0e2d6_level0_row8\" class=\"row_heading level0 row8\" >8</th>\n",
       "      <td id=\"T_0e2d6_row8_col0\" class=\"data row8 col0\" >Ignore features</td>\n",
       "      <td id=\"T_0e2d6_row8_col1\" class=\"data row8 col1\" >1</td>\n",
       "    </tr>\n",
       "    <tr>\n",
       "      <th id=\"T_0e2d6_level0_row9\" class=\"row_heading level0 row9\" >9</th>\n",
       "      <td id=\"T_0e2d6_row9_col0\" class=\"data row9 col0\" >Ordinal features</td>\n",
       "      <td id=\"T_0e2d6_row9_col1\" class=\"data row9 col1\" >5</td>\n",
       "    </tr>\n",
       "    <tr>\n",
       "      <th id=\"T_0e2d6_level0_row10\" class=\"row_heading level0 row10\" >10</th>\n",
       "      <td id=\"T_0e2d6_row10_col0\" class=\"data row10 col0\" >Numeric features</td>\n",
       "      <td id=\"T_0e2d6_row10_col1\" class=\"data row10 col1\" >5</td>\n",
       "    </tr>\n",
       "    <tr>\n",
       "      <th id=\"T_0e2d6_level0_row11\" class=\"row_heading level0 row11\" >11</th>\n",
       "      <td id=\"T_0e2d6_row11_col0\" class=\"data row11 col0\" >Categorical features</td>\n",
       "      <td id=\"T_0e2d6_row11_col1\" class=\"data row11 col1\" >15</td>\n",
       "    </tr>\n",
       "    <tr>\n",
       "      <th id=\"T_0e2d6_level0_row12\" class=\"row_heading level0 row12\" >12</th>\n",
       "      <td id=\"T_0e2d6_row12_col0\" class=\"data row12 col0\" >Rows with missing values</td>\n",
       "      <td id=\"T_0e2d6_row12_col1\" class=\"data row12 col1\" >0.2%</td>\n",
       "    </tr>\n",
       "    <tr>\n",
       "      <th id=\"T_0e2d6_level0_row13\" class=\"row_heading level0 row13\" >13</th>\n",
       "      <td id=\"T_0e2d6_row13_col0\" class=\"data row13 col0\" >Preprocess</td>\n",
       "      <td id=\"T_0e2d6_row13_col1\" class=\"data row13 col1\" >True</td>\n",
       "    </tr>\n",
       "    <tr>\n",
       "      <th id=\"T_0e2d6_level0_row14\" class=\"row_heading level0 row14\" >14</th>\n",
       "      <td id=\"T_0e2d6_row14_col0\" class=\"data row14 col0\" >Imputation type</td>\n",
       "      <td id=\"T_0e2d6_row14_col1\" class=\"data row14 col1\" >simple</td>\n",
       "    </tr>\n",
       "    <tr>\n",
       "      <th id=\"T_0e2d6_level0_row15\" class=\"row_heading level0 row15\" >15</th>\n",
       "      <td id=\"T_0e2d6_row15_col0\" class=\"data row15 col0\" >Numeric imputation</td>\n",
       "      <td id=\"T_0e2d6_row15_col1\" class=\"data row15 col1\" >mean</td>\n",
       "    </tr>\n",
       "    <tr>\n",
       "      <th id=\"T_0e2d6_level0_row16\" class=\"row_heading level0 row16\" >16</th>\n",
       "      <td id=\"T_0e2d6_row16_col0\" class=\"data row16 col0\" >Categorical imputation</td>\n",
       "      <td id=\"T_0e2d6_row16_col1\" class=\"data row16 col1\" >mode</td>\n",
       "    </tr>\n",
       "    <tr>\n",
       "      <th id=\"T_0e2d6_level0_row17\" class=\"row_heading level0 row17\" >17</th>\n",
       "      <td id=\"T_0e2d6_row17_col0\" class=\"data row17 col0\" >Maximum one-hot encoding</td>\n",
       "      <td id=\"T_0e2d6_row17_col1\" class=\"data row17 col1\" >25</td>\n",
       "    </tr>\n",
       "    <tr>\n",
       "      <th id=\"T_0e2d6_level0_row18\" class=\"row_heading level0 row18\" >18</th>\n",
       "      <td id=\"T_0e2d6_row18_col0\" class=\"data row18 col0\" >Encoding method</td>\n",
       "      <td id=\"T_0e2d6_row18_col1\" class=\"data row18 col1\" >None</td>\n",
       "    </tr>\n",
       "    <tr>\n",
       "      <th id=\"T_0e2d6_level0_row19\" class=\"row_heading level0 row19\" >19</th>\n",
       "      <td id=\"T_0e2d6_row19_col0\" class=\"data row19 col0\" >Fold Generator</td>\n",
       "      <td id=\"T_0e2d6_row19_col1\" class=\"data row19 col1\" >StratifiedKFold</td>\n",
       "    </tr>\n",
       "    <tr>\n",
       "      <th id=\"T_0e2d6_level0_row20\" class=\"row_heading level0 row20\" >20</th>\n",
       "      <td id=\"T_0e2d6_row20_col0\" class=\"data row20 col0\" >Fold Number</td>\n",
       "      <td id=\"T_0e2d6_row20_col1\" class=\"data row20 col1\" >10</td>\n",
       "    </tr>\n",
       "    <tr>\n",
       "      <th id=\"T_0e2d6_level0_row21\" class=\"row_heading level0 row21\" >21</th>\n",
       "      <td id=\"T_0e2d6_row21_col0\" class=\"data row21 col0\" >CPU Jobs</td>\n",
       "      <td id=\"T_0e2d6_row21_col1\" class=\"data row21 col1\" >-1</td>\n",
       "    </tr>\n",
       "    <tr>\n",
       "      <th id=\"T_0e2d6_level0_row22\" class=\"row_heading level0 row22\" >22</th>\n",
       "      <td id=\"T_0e2d6_row22_col0\" class=\"data row22 col0\" >Use GPU</td>\n",
       "      <td id=\"T_0e2d6_row22_col1\" class=\"data row22 col1\" >False</td>\n",
       "    </tr>\n",
       "    <tr>\n",
       "      <th id=\"T_0e2d6_level0_row23\" class=\"row_heading level0 row23\" >23</th>\n",
       "      <td id=\"T_0e2d6_row23_col0\" class=\"data row23 col0\" >Log Experiment</td>\n",
       "      <td id=\"T_0e2d6_row23_col1\" class=\"data row23 col1\" >MlflowLogger</td>\n",
       "    </tr>\n",
       "    <tr>\n",
       "      <th id=\"T_0e2d6_level0_row24\" class=\"row_heading level0 row24\" >24</th>\n",
       "      <td id=\"T_0e2d6_row24_col0\" class=\"data row24 col0\" >Experiment Name</td>\n",
       "      <td id=\"T_0e2d6_row24_col1\" class=\"data row24 col1\" >churn1</td>\n",
       "    </tr>\n",
       "    <tr>\n",
       "      <th id=\"T_0e2d6_level0_row25\" class=\"row_heading level0 row25\" >25</th>\n",
       "      <td id=\"T_0e2d6_row25_col0\" class=\"data row25 col0\" >USI</td>\n",
       "      <td id=\"T_0e2d6_row25_col1\" class=\"data row25 col1\" >58b8</td>\n",
       "    </tr>\n",
       "  </tbody>\n",
       "</table>\n"
      ],
      "text/plain": [
       "<pandas.io.formats.style.Styler at 0x229d02c6c80>"
      ]
     },
     "metadata": {},
     "output_type": "display_data"
    }
   ],
   "source": [
    "from pycaret.classification import *\n",
    "s = setup(data, target = 'Churn', session_id = 123, ignore_features = ['customerID'], log_experiment = True, experiment_name = 'churn1')"
   ]
  },
  {
   "cell_type": "markdown",
   "metadata": {},
   "source": [
    "model training and selection"
   ]
  },
  {
   "cell_type": "code",
   "execution_count": 5,
   "metadata": {},
   "outputs": [
    {
     "data": {
      "text/html": [
       "<div>\n",
       "<style scoped>\n",
       "    .dataframe tbody tr th:only-of-type {\n",
       "        vertical-align: middle;\n",
       "    }\n",
       "\n",
       "    .dataframe tbody tr th {\n",
       "        vertical-align: top;\n",
       "    }\n",
       "\n",
       "    .dataframe thead th {\n",
       "        text-align: right;\n",
       "    }\n",
       "</style>\n",
       "<table border=\"1\" class=\"dataframe\">\n",
       "  <thead>\n",
       "    <tr style=\"text-align: right;\">\n",
       "      <th></th>\n",
       "      <th></th>\n",
       "      <th></th>\n",
       "    </tr>\n",
       "    <tr>\n",
       "      <th></th>\n",
       "      <th></th>\n",
       "      <th></th>\n",
       "    </tr>\n",
       "  </thead>\n",
       "  <tbody>\n",
       "    <tr>\n",
       "      <th>Initiated</th>\n",
       "      <td>. . . . . . . . . . . . . . . . . .</td>\n",
       "      <td>18:49:31</td>\n",
       "    </tr>\n",
       "    <tr>\n",
       "      <th>Status</th>\n",
       "      <td>. . . . . . . . . . . . . . . . . .</td>\n",
       "      <td>Selecting Estimator</td>\n",
       "    </tr>\n",
       "    <tr>\n",
       "      <th>Estimator</th>\n",
       "      <td>. . . . . . . . . . . . . . . . . .</td>\n",
       "      <td>Logistic Regression</td>\n",
       "    </tr>\n",
       "  </tbody>\n",
       "</table>\n",
       "</div>"
      ],
      "text/plain": [
       "                                                                   \n",
       "                                                                   \n",
       "Initiated  . . . . . . . . . . . . . . . . . .             18:49:31\n",
       "Status     . . . . . . . . . . . . . . . . . .  Selecting Estimator\n",
       "Estimator  . . . . . . . . . . . . . . . . . .  Logistic Regression"
      ]
     },
     "metadata": {},
     "output_type": "display_data"
    },
    {
     "data": {
      "text/html": [
       "<style type=\"text/css\">\n",
       "#T_d8db0 th {\n",
       "  text-align: left;\n",
       "}\n",
       "#T_d8db0_row0_col0, #T_d8db0_row0_col2, #T_d8db0_row0_col4, #T_d8db0_row1_col0, #T_d8db0_row1_col1, #T_d8db0_row1_col2, #T_d8db0_row1_col3, #T_d8db0_row1_col4, #T_d8db0_row1_col5, #T_d8db0_row1_col6, #T_d8db0_row1_col7, #T_d8db0_row2_col0, #T_d8db0_row2_col1, #T_d8db0_row2_col3, #T_d8db0_row2_col4, #T_d8db0_row2_col5, #T_d8db0_row2_col6, #T_d8db0_row2_col7, #T_d8db0_row3_col0, #T_d8db0_row3_col1, #T_d8db0_row3_col2, #T_d8db0_row3_col3, #T_d8db0_row3_col4, #T_d8db0_row3_col5, #T_d8db0_row3_col6, #T_d8db0_row3_col7, #T_d8db0_row4_col0, #T_d8db0_row4_col1, #T_d8db0_row4_col2, #T_d8db0_row4_col3, #T_d8db0_row4_col4, #T_d8db0_row4_col5, #T_d8db0_row4_col6, #T_d8db0_row4_col7, #T_d8db0_row5_col0, #T_d8db0_row5_col1, #T_d8db0_row5_col2, #T_d8db0_row5_col3, #T_d8db0_row5_col4, #T_d8db0_row5_col5, #T_d8db0_row5_col6, #T_d8db0_row5_col7, #T_d8db0_row6_col0, #T_d8db0_row6_col1, #T_d8db0_row6_col2, #T_d8db0_row6_col3, #T_d8db0_row6_col4, #T_d8db0_row6_col5, #T_d8db0_row6_col6, #T_d8db0_row6_col7, #T_d8db0_row7_col0, #T_d8db0_row7_col1, #T_d8db0_row7_col2, #T_d8db0_row7_col3, #T_d8db0_row7_col4, #T_d8db0_row7_col5, #T_d8db0_row7_col6, #T_d8db0_row7_col7, #T_d8db0_row8_col0, #T_d8db0_row8_col1, #T_d8db0_row8_col2, #T_d8db0_row8_col3, #T_d8db0_row8_col4, #T_d8db0_row8_col5, #T_d8db0_row8_col6, #T_d8db0_row8_col7, #T_d8db0_row9_col0, #T_d8db0_row9_col1, #T_d8db0_row9_col2, #T_d8db0_row9_col3, #T_d8db0_row9_col4, #T_d8db0_row9_col5, #T_d8db0_row9_col6, #T_d8db0_row9_col7, #T_d8db0_row10_col0, #T_d8db0_row10_col1, #T_d8db0_row10_col2, #T_d8db0_row10_col3, #T_d8db0_row10_col4, #T_d8db0_row10_col5, #T_d8db0_row10_col6, #T_d8db0_row10_col7, #T_d8db0_row11_col0, #T_d8db0_row11_col1, #T_d8db0_row11_col2, #T_d8db0_row11_col3, #T_d8db0_row11_col4, #T_d8db0_row11_col5, #T_d8db0_row11_col6, #T_d8db0_row11_col7, #T_d8db0_row12_col0, #T_d8db0_row12_col1, #T_d8db0_row12_col2, #T_d8db0_row12_col3, #T_d8db0_row12_col4, #T_d8db0_row12_col5, #T_d8db0_row12_col6, #T_d8db0_row12_col7, #T_d8db0_row13_col0, #T_d8db0_row13_col1, #T_d8db0_row13_col2, #T_d8db0_row13_col3, #T_d8db0_row13_col4, #T_d8db0_row13_col5, #T_d8db0_row13_col6, #T_d8db0_row13_col7, #T_d8db0_row14_col0, #T_d8db0_row14_col1, #T_d8db0_row14_col2, #T_d8db0_row14_col3, #T_d8db0_row14_col5, #T_d8db0_row14_col6, #T_d8db0_row14_col7, #T_d8db0_row15_col0, #T_d8db0_row15_col1, #T_d8db0_row15_col2, #T_d8db0_row15_col3, #T_d8db0_row15_col4, #T_d8db0_row15_col5, #T_d8db0_row15_col6, #T_d8db0_row15_col7 {\n",
       "  text-align: left;\n",
       "}\n",
       "#T_d8db0_row0_col1, #T_d8db0_row0_col3, #T_d8db0_row0_col5, #T_d8db0_row0_col6, #T_d8db0_row0_col7, #T_d8db0_row2_col2, #T_d8db0_row14_col4 {\n",
       "  text-align: left;\n",
       "  background-color: yellow;\n",
       "}\n",
       "#T_d8db0_row0_col8, #T_d8db0_row1_col8, #T_d8db0_row2_col8, #T_d8db0_row3_col8, #T_d8db0_row4_col8, #T_d8db0_row5_col8, #T_d8db0_row6_col8, #T_d8db0_row7_col8, #T_d8db0_row8_col8, #T_d8db0_row9_col8, #T_d8db0_row11_col8, #T_d8db0_row12_col8, #T_d8db0_row13_col8, #T_d8db0_row14_col8, #T_d8db0_row15_col8 {\n",
       "  text-align: left;\n",
       "  background-color: lightgrey;\n",
       "}\n",
       "#T_d8db0_row10_col8 {\n",
       "  text-align: left;\n",
       "  background-color: yellow;\n",
       "  background-color: lightgrey;\n",
       "}\n",
       "</style>\n",
       "<table id=\"T_d8db0\">\n",
       "  <thead>\n",
       "    <tr>\n",
       "      <th class=\"blank level0\" >&nbsp;</th>\n",
       "      <th id=\"T_d8db0_level0_col0\" class=\"col_heading level0 col0\" >Model</th>\n",
       "      <th id=\"T_d8db0_level0_col1\" class=\"col_heading level0 col1\" >Accuracy</th>\n",
       "      <th id=\"T_d8db0_level0_col2\" class=\"col_heading level0 col2\" >AUC</th>\n",
       "      <th id=\"T_d8db0_level0_col3\" class=\"col_heading level0 col3\" >Recall</th>\n",
       "      <th id=\"T_d8db0_level0_col4\" class=\"col_heading level0 col4\" >Prec.</th>\n",
       "      <th id=\"T_d8db0_level0_col5\" class=\"col_heading level0 col5\" >F1</th>\n",
       "      <th id=\"T_d8db0_level0_col6\" class=\"col_heading level0 col6\" >Kappa</th>\n",
       "      <th id=\"T_d8db0_level0_col7\" class=\"col_heading level0 col7\" >MCC</th>\n",
       "      <th id=\"T_d8db0_level0_col8\" class=\"col_heading level0 col8\" >TT (Sec)</th>\n",
       "    </tr>\n",
       "  </thead>\n",
       "  <tbody>\n",
       "    <tr>\n",
       "      <th id=\"T_d8db0_level0_row0\" class=\"row_heading level0 row0\" >lr</th>\n",
       "      <td id=\"T_d8db0_row0_col0\" class=\"data row0 col0\" >Logistic Regression</td>\n",
       "      <td id=\"T_d8db0_row0_col1\" class=\"data row0 col1\" >0.8028</td>\n",
       "      <td id=\"T_d8db0_row0_col2\" class=\"data row0 col2\" >0.8438</td>\n",
       "      <td id=\"T_d8db0_row0_col3\" class=\"data row0 col3\" >0.8028</td>\n",
       "      <td id=\"T_d8db0_row0_col4\" class=\"data row0 col4\" >0.7950</td>\n",
       "      <td id=\"T_d8db0_row0_col5\" class=\"data row0 col5\" >0.7969</td>\n",
       "      <td id=\"T_d8db0_row0_col6\" class=\"data row0 col6\" >0.4667</td>\n",
       "      <td id=\"T_d8db0_row0_col7\" class=\"data row0 col7\" >0.4704</td>\n",
       "      <td id=\"T_d8db0_row0_col8\" class=\"data row0 col8\" >0.7970</td>\n",
       "    </tr>\n",
       "    <tr>\n",
       "      <th id=\"T_d8db0_level0_row1\" class=\"row_heading level0 row1\" >ridge</th>\n",
       "      <td id=\"T_d8db0_row1_col0\" class=\"data row1 col0\" >Ridge Classifier</td>\n",
       "      <td id=\"T_d8db0_row1_col1\" class=\"data row1 col1\" >0.8002</td>\n",
       "      <td id=\"T_d8db0_row1_col2\" class=\"data row1 col2\" >0.0000</td>\n",
       "      <td id=\"T_d8db0_row1_col3\" class=\"data row1 col3\" >0.8002</td>\n",
       "      <td id=\"T_d8db0_row1_col4\" class=\"data row1 col4\" >0.7908</td>\n",
       "      <td id=\"T_d8db0_row1_col5\" class=\"data row1 col5\" >0.7923</td>\n",
       "      <td id=\"T_d8db0_row1_col6\" class=\"data row1 col6\" >0.4517</td>\n",
       "      <td id=\"T_d8db0_row1_col7\" class=\"data row1 col7\" >0.4575</td>\n",
       "      <td id=\"T_d8db0_row1_col8\" class=\"data row1 col8\" >0.0930</td>\n",
       "    </tr>\n",
       "    <tr>\n",
       "      <th id=\"T_d8db0_level0_row2\" class=\"row_heading level0 row2\" >gbc</th>\n",
       "      <td id=\"T_d8db0_row2_col0\" class=\"data row2 col0\" >Gradient Boosting Classifier</td>\n",
       "      <td id=\"T_d8db0_row2_col1\" class=\"data row2 col1\" >0.8002</td>\n",
       "      <td id=\"T_d8db0_row2_col2\" class=\"data row2 col2\" >0.8472</td>\n",
       "      <td id=\"T_d8db0_row2_col3\" class=\"data row2 col3\" >0.8002</td>\n",
       "      <td id=\"T_d8db0_row2_col4\" class=\"data row2 col4\" >0.7910</td>\n",
       "      <td id=\"T_d8db0_row2_col5\" class=\"data row2 col5\" >0.7924</td>\n",
       "      <td id=\"T_d8db0_row2_col6\" class=\"data row2 col6\" >0.4522</td>\n",
       "      <td id=\"T_d8db0_row2_col7\" class=\"data row2 col7\" >0.4581</td>\n",
       "      <td id=\"T_d8db0_row2_col8\" class=\"data row2 col8\" >0.3230</td>\n",
       "    </tr>\n",
       "    <tr>\n",
       "      <th id=\"T_d8db0_level0_row3\" class=\"row_heading level0 row3\" >ada</th>\n",
       "      <td id=\"T_d8db0_row3_col0\" class=\"data row3 col0\" >Ada Boost Classifier</td>\n",
       "      <td id=\"T_d8db0_row3_col1\" class=\"data row3 col1\" >0.7986</td>\n",
       "      <td id=\"T_d8db0_row3_col2\" class=\"data row3 col2\" >0.8448</td>\n",
       "      <td id=\"T_d8db0_row3_col3\" class=\"data row3 col3\" >0.7986</td>\n",
       "      <td id=\"T_d8db0_row3_col4\" class=\"data row3 col4\" >0.7893</td>\n",
       "      <td id=\"T_d8db0_row3_col5\" class=\"data row3 col5\" >0.7911</td>\n",
       "      <td id=\"T_d8db0_row3_col6\" class=\"data row3 col6\" >0.4492</td>\n",
       "      <td id=\"T_d8db0_row3_col7\" class=\"data row3 col7\" >0.4543</td>\n",
       "      <td id=\"T_d8db0_row3_col8\" class=\"data row3 col8\" >0.1700</td>\n",
       "    </tr>\n",
       "    <tr>\n",
       "      <th id=\"T_d8db0_level0_row4\" class=\"row_heading level0 row4\" >lda</th>\n",
       "      <td id=\"T_d8db0_row4_col0\" class=\"data row4 col0\" >Linear Discriminant Analysis</td>\n",
       "      <td id=\"T_d8db0_row4_col1\" class=\"data row4 col1\" >0.7984</td>\n",
       "      <td id=\"T_d8db0_row4_col2\" class=\"data row4 col2\" >0.8374</td>\n",
       "      <td id=\"T_d8db0_row4_col3\" class=\"data row4 col3\" >0.7984</td>\n",
       "      <td id=\"T_d8db0_row4_col4\" class=\"data row4 col4\" >0.7917</td>\n",
       "      <td id=\"T_d8db0_row4_col5\" class=\"data row4 col5\" >0.7937</td>\n",
       "      <td id=\"T_d8db0_row4_col6\" class=\"data row4 col6\" >0.4607</td>\n",
       "      <td id=\"T_d8db0_row4_col7\" class=\"data row4 col7\" >0.4632</td>\n",
       "      <td id=\"T_d8db0_row4_col8\" class=\"data row4 col8\" >0.0930</td>\n",
       "    </tr>\n",
       "    <tr>\n",
       "      <th id=\"T_d8db0_level0_row5\" class=\"row_heading level0 row5\" >catboost</th>\n",
       "      <td id=\"T_d8db0_row5_col0\" class=\"data row5 col0\" >CatBoost Classifier</td>\n",
       "      <td id=\"T_d8db0_row5_col1\" class=\"data row5 col1\" >0.7947</td>\n",
       "      <td id=\"T_d8db0_row5_col2\" class=\"data row5 col2\" >0.8415</td>\n",
       "      <td id=\"T_d8db0_row5_col3\" class=\"data row5 col3\" >0.7947</td>\n",
       "      <td id=\"T_d8db0_row5_col4\" class=\"data row5 col4\" >0.7848</td>\n",
       "      <td id=\"T_d8db0_row5_col5\" class=\"data row5 col5\" >0.7865</td>\n",
       "      <td id=\"T_d8db0_row5_col6\" class=\"data row5 col6\" >0.4367</td>\n",
       "      <td id=\"T_d8db0_row5_col7\" class=\"data row5 col7\" >0.4422</td>\n",
       "      <td id=\"T_d8db0_row5_col8\" class=\"data row5 col8\" >1.8960</td>\n",
       "    </tr>\n",
       "    <tr>\n",
       "      <th id=\"T_d8db0_level0_row6\" class=\"row_heading level0 row6\" >rf</th>\n",
       "      <td id=\"T_d8db0_row6_col0\" class=\"data row6 col0\" >Random Forest Classifier</td>\n",
       "      <td id=\"T_d8db0_row6_col1\" class=\"data row6 col1\" >0.7933</td>\n",
       "      <td id=\"T_d8db0_row6_col2\" class=\"data row6 col2\" >0.8308</td>\n",
       "      <td id=\"T_d8db0_row6_col3\" class=\"data row6 col3\" >0.7933</td>\n",
       "      <td id=\"T_d8db0_row6_col4\" class=\"data row6 col4\" >0.7826</td>\n",
       "      <td id=\"T_d8db0_row6_col5\" class=\"data row6 col5\" >0.7840</td>\n",
       "      <td id=\"T_d8db0_row6_col6\" class=\"data row6 col6\" >0.4285</td>\n",
       "      <td id=\"T_d8db0_row6_col7\" class=\"data row6 col7\" >0.4353</td>\n",
       "      <td id=\"T_d8db0_row6_col8\" class=\"data row6 col8\" >0.2480</td>\n",
       "    </tr>\n",
       "    <tr>\n",
       "      <th id=\"T_d8db0_level0_row7\" class=\"row_heading level0 row7\" >lightgbm</th>\n",
       "      <td id=\"T_d8db0_row7_col0\" class=\"data row7 col0\" >Light Gradient Boosting Machine</td>\n",
       "      <td id=\"T_d8db0_row7_col1\" class=\"data row7 col1\" >0.7923</td>\n",
       "      <td id=\"T_d8db0_row7_col2\" class=\"data row7 col2\" >0.8359</td>\n",
       "      <td id=\"T_d8db0_row7_col3\" class=\"data row7 col3\" >0.7923</td>\n",
       "      <td id=\"T_d8db0_row7_col4\" class=\"data row7 col4\" >0.7846</td>\n",
       "      <td id=\"T_d8db0_row7_col5\" class=\"data row7 col5\" >0.7865</td>\n",
       "      <td id=\"T_d8db0_row7_col6\" class=\"data row7 col6\" >0.4408</td>\n",
       "      <td id=\"T_d8db0_row7_col7\" class=\"data row7 col7\" >0.4441</td>\n",
       "      <td id=\"T_d8db0_row7_col8\" class=\"data row7 col8\" >0.3720</td>\n",
       "    </tr>\n",
       "    <tr>\n",
       "      <th id=\"T_d8db0_level0_row8\" class=\"row_heading level0 row8\" >xgboost</th>\n",
       "      <td id=\"T_d8db0_row8_col0\" class=\"data row8 col0\" >Extreme Gradient Boosting</td>\n",
       "      <td id=\"T_d8db0_row8_col1\" class=\"data row8 col1\" >0.7824</td>\n",
       "      <td id=\"T_d8db0_row8_col2\" class=\"data row8 col2\" >0.8216</td>\n",
       "      <td id=\"T_d8db0_row8_col3\" class=\"data row8 col3\" >0.7824</td>\n",
       "      <td id=\"T_d8db0_row8_col4\" class=\"data row8 col4\" >0.7725</td>\n",
       "      <td id=\"T_d8db0_row8_col5\" class=\"data row8 col5\" >0.7752</td>\n",
       "      <td id=\"T_d8db0_row8_col6\" class=\"data row8 col6\" >0.4089</td>\n",
       "      <td id=\"T_d8db0_row8_col7\" class=\"data row8 col7\" >0.4127</td>\n",
       "      <td id=\"T_d8db0_row8_col8\" class=\"data row8 col8\" >0.2010</td>\n",
       "    </tr>\n",
       "    <tr>\n",
       "      <th id=\"T_d8db0_level0_row9\" class=\"row_heading level0 row9\" >et</th>\n",
       "      <td id=\"T_d8db0_row9_col0\" class=\"data row9 col0\" >Extra Trees Classifier</td>\n",
       "      <td id=\"T_d8db0_row9_col1\" class=\"data row9 col1\" >0.7761</td>\n",
       "      <td id=\"T_d8db0_row9_col2\" class=\"data row9 col2\" >0.8046</td>\n",
       "      <td id=\"T_d8db0_row9_col3\" class=\"data row9 col3\" >0.7761</td>\n",
       "      <td id=\"T_d8db0_row9_col4\" class=\"data row9 col4\" >0.7649</td>\n",
       "      <td id=\"T_d8db0_row9_col5\" class=\"data row9 col5\" >0.7678</td>\n",
       "      <td id=\"T_d8db0_row9_col6\" class=\"data row9 col6\" >0.3881</td>\n",
       "      <td id=\"T_d8db0_row9_col7\" class=\"data row9 col7\" >0.3924</td>\n",
       "      <td id=\"T_d8db0_row9_col8\" class=\"data row9 col8\" >0.2120</td>\n",
       "    </tr>\n",
       "    <tr>\n",
       "      <th id=\"T_d8db0_level0_row10\" class=\"row_heading level0 row10\" >dummy</th>\n",
       "      <td id=\"T_d8db0_row10_col0\" class=\"data row10 col0\" >Dummy Classifier</td>\n",
       "      <td id=\"T_d8db0_row10_col1\" class=\"data row10 col1\" >0.7347</td>\n",
       "      <td id=\"T_d8db0_row10_col2\" class=\"data row10 col2\" >0.5000</td>\n",
       "      <td id=\"T_d8db0_row10_col3\" class=\"data row10 col3\" >0.7347</td>\n",
       "      <td id=\"T_d8db0_row10_col4\" class=\"data row10 col4\" >0.5398</td>\n",
       "      <td id=\"T_d8db0_row10_col5\" class=\"data row10 col5\" >0.6223</td>\n",
       "      <td id=\"T_d8db0_row10_col6\" class=\"data row10 col6\" >0.0000</td>\n",
       "      <td id=\"T_d8db0_row10_col7\" class=\"data row10 col7\" >0.0000</td>\n",
       "      <td id=\"T_d8db0_row10_col8\" class=\"data row10 col8\" >0.0910</td>\n",
       "    </tr>\n",
       "    <tr>\n",
       "      <th id=\"T_d8db0_level0_row11\" class=\"row_heading level0 row11\" >knn</th>\n",
       "      <td id=\"T_d8db0_row11_col0\" class=\"data row11 col0\" >K Neighbors Classifier</td>\n",
       "      <td id=\"T_d8db0_row11_col1\" class=\"data row11 col1\" >0.7292</td>\n",
       "      <td id=\"T_d8db0_row11_col2\" class=\"data row11 col2\" >0.6315</td>\n",
       "      <td id=\"T_d8db0_row11_col3\" class=\"data row11 col3\" >0.7292</td>\n",
       "      <td id=\"T_d8db0_row11_col4\" class=\"data row11 col4\" >0.6965</td>\n",
       "      <td id=\"T_d8db0_row11_col5\" class=\"data row11 col5\" >0.7022</td>\n",
       "      <td id=\"T_d8db0_row11_col6\" class=\"data row11 col6\" >0.1960</td>\n",
       "      <td id=\"T_d8db0_row11_col7\" class=\"data row11 col7\" >0.2083</td>\n",
       "      <td id=\"T_d8db0_row11_col8\" class=\"data row11 col8\" >0.6670</td>\n",
       "    </tr>\n",
       "    <tr>\n",
       "      <th id=\"T_d8db0_level0_row12\" class=\"row_heading level0 row12\" >svm</th>\n",
       "      <td id=\"T_d8db0_row12_col0\" class=\"data row12 col0\" >SVM - Linear Kernel</td>\n",
       "      <td id=\"T_d8db0_row12_col1\" class=\"data row12 col1\" >0.7221</td>\n",
       "      <td id=\"T_d8db0_row12_col2\" class=\"data row12 col2\" >0.0000</td>\n",
       "      <td id=\"T_d8db0_row12_col3\" class=\"data row12 col3\" >0.7221</td>\n",
       "      <td id=\"T_d8db0_row12_col4\" class=\"data row12 col4\" >0.7388</td>\n",
       "      <td id=\"T_d8db0_row12_col5\" class=\"data row12 col5\" >0.6940</td>\n",
       "      <td id=\"T_d8db0_row12_col6\" class=\"data row12 col6\" >0.2441</td>\n",
       "      <td id=\"T_d8db0_row12_col7\" class=\"data row12 col7\" >0.2802</td>\n",
       "      <td id=\"T_d8db0_row12_col8\" class=\"data row12 col8\" >0.1020</td>\n",
       "    </tr>\n",
       "    <tr>\n",
       "      <th id=\"T_d8db0_level0_row13\" class=\"row_heading level0 row13\" >dt</th>\n",
       "      <td id=\"T_d8db0_row13_col0\" class=\"data row13 col0\" >Decision Tree Classifier</td>\n",
       "      <td id=\"T_d8db0_row13_col1\" class=\"data row13 col1\" >0.7168</td>\n",
       "      <td id=\"T_d8db0_row13_col2\" class=\"data row13 col2\" >0.6415</td>\n",
       "      <td id=\"T_d8db0_row13_col3\" class=\"data row13 col3\" >0.7168</td>\n",
       "      <td id=\"T_d8db0_row13_col4\" class=\"data row13 col4\" >0.7198</td>\n",
       "      <td id=\"T_d8db0_row13_col5\" class=\"data row13 col5\" >0.7178</td>\n",
       "      <td id=\"T_d8db0_row13_col6\" class=\"data row13 col6\" >0.2800</td>\n",
       "      <td id=\"T_d8db0_row13_col7\" class=\"data row13 col7\" >0.2806</td>\n",
       "      <td id=\"T_d8db0_row13_col8\" class=\"data row13 col8\" >0.1000</td>\n",
       "    </tr>\n",
       "    <tr>\n",
       "      <th id=\"T_d8db0_level0_row14\" class=\"row_heading level0 row14\" >nb</th>\n",
       "      <td id=\"T_d8db0_row14_col0\" class=\"data row14 col0\" >Naive Bayes</td>\n",
       "      <td id=\"T_d8db0_row14_col1\" class=\"data row14 col1\" >0.6913</td>\n",
       "      <td id=\"T_d8db0_row14_col2\" class=\"data row14 col2\" >0.8204</td>\n",
       "      <td id=\"T_d8db0_row14_col3\" class=\"data row14 col3\" >0.6913</td>\n",
       "      <td id=\"T_d8db0_row14_col4\" class=\"data row14 col4\" >0.7963</td>\n",
       "      <td id=\"T_d8db0_row14_col5\" class=\"data row14 col5\" >0.7092</td>\n",
       "      <td id=\"T_d8db0_row14_col6\" class=\"data row14 col6\" >0.3778</td>\n",
       "      <td id=\"T_d8db0_row14_col7\" class=\"data row14 col7\" >0.4247</td>\n",
       "      <td id=\"T_d8db0_row14_col8\" class=\"data row14 col8\" >0.0920</td>\n",
       "    </tr>\n",
       "    <tr>\n",
       "      <th id=\"T_d8db0_level0_row15\" class=\"row_heading level0 row15\" >qda</th>\n",
       "      <td id=\"T_d8db0_row15_col0\" class=\"data row15 col0\" >Quadratic Discriminant Analysis</td>\n",
       "      <td id=\"T_d8db0_row15_col1\" class=\"data row15 col1\" >0.6779</td>\n",
       "      <td id=\"T_d8db0_row15_col2\" class=\"data row15 col2\" >0.8194</td>\n",
       "      <td id=\"T_d8db0_row15_col3\" class=\"data row15 col3\" >0.6779</td>\n",
       "      <td id=\"T_d8db0_row15_col4\" class=\"data row15 col4\" >0.7916</td>\n",
       "      <td id=\"T_d8db0_row15_col5\" class=\"data row15 col5\" >0.6948</td>\n",
       "      <td id=\"T_d8db0_row15_col6\" class=\"data row15 col6\" >0.3596</td>\n",
       "      <td id=\"T_d8db0_row15_col7\" class=\"data row15 col7\" >0.4081</td>\n",
       "      <td id=\"T_d8db0_row15_col8\" class=\"data row15 col8\" >0.1000</td>\n",
       "    </tr>\n",
       "  </tbody>\n",
       "</table>\n"
      ],
      "text/plain": [
       "<pandas.io.formats.style.Styler at 0x229cda063e0>"
      ]
     },
     "metadata": {},
     "output_type": "display_data"
    },
    {
     "data": {
      "application/vnd.jupyter.widget-view+json": {
       "model_id": "10a5b364f6984e9195768cf16fe094cb",
       "version_major": 2,
       "version_minor": 0
      },
      "text/plain": [
       "Processing:   0%|          | 0/69 [00:00<?, ?it/s]"
      ]
     },
     "metadata": {},
     "output_type": "display_data"
    }
   ],
   "source": [
    "best = compare_models()\n"
   ]
  },
  {
   "cell_type": "code",
   "execution_count": 6,
   "metadata": {},
   "outputs": [
    {
     "name": "stdout",
     "output_type": "stream",
     "text": [
      "LogisticRegression(C=1.0, class_weight=None, dual=False, fit_intercept=True,\n",
      "                   intercept_scaling=1, l1_ratio=None, max_iter=1000,\n",
      "                   multi_class='auto', n_jobs=None, penalty='l2',\n",
      "                   random_state=123, solver='lbfgs', tol=0.0001, verbose=0,\n",
      "                   warm_start=False)\n"
     ]
    }
   ],
   "source": [
    "print(best)"
   ]
  },
  {
   "cell_type": "code",
   "execution_count": 7,
   "metadata": {},
   "outputs": [
    {
     "data": {
      "text/html": [],
      "text/plain": [
       "<IPython.core.display.HTML object>"
      ]
     },
     "metadata": {},
     "output_type": "display_data"
    },
    {
     "data": {
      "image/png": "[encoded data removed]",
      "text/plain": [
       "<Figure size 800x550 with 1 Axes>"
      ]
     },
     "metadata": {},
     "output_type": "display_data"
    }
   ],
   "source": [
    "plot_model(best,plot='auc')"
   ]
  },
  {
   "cell_type": "code",
   "execution_count": 8,
   "metadata": {},
   "outputs": [],
   "source": [
    "import mlflow"
   ]
  },
  {
   "cell_type": "code",
   "execution_count": 9,
   "metadata": {},
   "outputs": [],
   "source": [
    "mlflow.end_run()\n"
   ]
  },
  {
   "cell_type": "code",
   "execution_count": 10,
   "metadata": {},
   "outputs": [],
   "source": [
    "with mlflow.start_run():\n",
    "    # Log the best model using mlflow.sklearn\n",
    "    mlflow.sklearn.log_model(best, 'logistic_regression_model')"
   ]
  },
  {
   "cell_type": "code",
   "execution_count": 12,
   "metadata": {},
   "outputs": [
    {
     "name": "stdout",
     "output_type": "stream",
     "text": [
      "Transformation Pipeline and Model Successfully Saved\n"
     ]
    },
    {
     "data": {
      "text/plain": [
       "(Pipeline(memory=Memory(location=None),\n",
       "          steps=[('label_encoding',\n",
       "                  TransformerWrapperWithInverse(exclude=None, include=None,\n",
       "                                                transformer=LabelEncoder())),\n",
       "                 ('numerical_imputer',\n",
       "                  TransformerWrapper(exclude=None,\n",
       "                                     include=['Unnamed: 0', 'SeniorCitizen',\n",
       "                                              'tenure', 'MonthlyCharges',\n",
       "                                              'TotalCharges'],\n",
       "                                     transformer=SimpleImputer(add_indicator=False,\n",
       "                                                               copy=True,\n",
       "                                                               fill_value=Non...\n",
       "                  TransformerWrapper(exclude=None, include=None,\n",
       "                                     transformer=CleanColumnNames(match='[\\\\]\\\\[\\\\,\\\\{\\\\}\\\\\"\\\\:]+'))),\n",
       "                 ('actual_estimator',\n",
       "                  LogisticRegression(C=1.0, class_weight=None, dual=False,\n",
       "                                     fit_intercept=True, intercept_scaling=1,\n",
       "                                     l1_ratio=None, max_iter=1000,\n",
       "                                     multi_class='auto', n_jobs=None,\n",
       "                                     penalty='l2', random_state=123,\n",
       "                                     solver='lbfgs', tol=0.0001, verbose=0,\n",
       "                                     warm_start=False))],\n",
       "          verbose=False),\n",
       " 'best_model.pkl')"
      ]
     },
     "execution_count": 12,
     "metadata": {},
     "output_type": "execute_result"
    }
   ],
   "source": [
    "final_best_model = finalize_model(best)\n",
    "save_model(final_best_model, 'best_model')"
   ]
  },
  {
   "cell_type": "code",
   "execution_count": 37,
   "metadata": {},
   "outputs": [],
   "source": [
    "import pandas as pd\n",
    "from sklearn.model_selection import train_test_split\n",
    "from sklearn.linear_model import LogisticRegression\n",
    "from sklearn.metrics import accuracy_score"
   ]
  },
  {
   "cell_type": "code",
   "execution_count": 60,
   "metadata": {},
   "outputs": [],
   "source": [
    "X = data.drop(['Churn', 'customerID', 'Unnamed: 0'], axis=1)\n",
    "y = data['Churn']"
   ]
  },
  {
   "cell_type": "code",
   "execution_count": 61,
   "metadata": {},
   "outputs": [],
   "source": [
    "X_train, X_test, y_train, y_test = train_test_split(X, y, test_size=0.2, random_state=42)\n"
   ]
  },
  {
   "cell_type": "code",
   "execution_count": 62,
   "metadata": {},
   "outputs": [],
   "source": [
    "categorical_columns = X_train.select_dtypes(include=['object']).columns\n"
   ]
  },
  {
   "cell_type": "code",
   "execution_count": 63,
   "metadata": {},
   "outputs": [],
   "source": [
    "from sklearn.impute import SimpleImputer\n"
   ]
  },
  {
   "cell_type": "code",
   "execution_count": 64,
   "metadata": {},
   "outputs": [],
   "source": [
    "imputer = SimpleImputer(strategy='most_frequent')  # You can use different strategies based on your needs\n",
    "X_train_imputed = pd.DataFrame(imputer.fit_transform(X_train), columns=X_train.columns)\n",
    "X_test_imputed = pd.DataFrame(imputer.transform(X_test), columns=X_test.columns)\n"
   ]
  },
  {
   "cell_type": "code",
   "execution_count": 65,
   "metadata": {},
   "outputs": [],
   "source": [
    "X_train_encoded = pd.get_dummies(X_train_imputed, columns=categorical_columns)\n",
    "X_test_encoded = pd.get_dummies(X_test_imputed, columns=categorical_columns)\n"
   ]
  },
  {
   "cell_type": "code",
   "execution_count": 66,
   "metadata": {},
   "outputs": [],
   "source": [
    "X_train_encoded, X_test_encoded = X_train_encoded.align(X_test_encoded, join='outer', axis=1, fill_value=0)\n"
   ]
  },
  {
   "cell_type": "code",
   "execution_count": 67,
   "metadata": {},
   "outputs": [],
   "source": [
    "logistic_regression_model = LogisticRegression(random_state=42)"
   ]
  },
  {
   "cell_type": "code",
   "execution_count": 68,
   "metadata": {},
   "outputs": [
    {
     "data": {
      "text/html": [
       "<style>#sk-container-id-3 {color: black;background-color: white;}#sk-container-id-3 pre{padding: 0;}#sk-container-id-3 div.sk-toggleable {background-color: white;}#sk-container-id-3 label.sk-toggleable__label {cursor: pointer;display: block;width: 100%;margin-bottom: 0;padding: 0.3em;box-sizing: border-box;text-align: center;}#sk-container-id-3 label.sk-toggleable__label-arrow:before {content: \"▸\";float: left;margin-right: 0.25em;color: #696969;}#sk-container-id-3 label.sk-toggleable__label-arrow:hover:before {color: black;}#sk-container-id-3 div.sk-estimator:hover label.sk-toggleable__label-arrow:before {color: black;}#sk-container-id-3 div.sk-toggleable__content {max-height: 0;max-width: 0;overflow: hidden;text-align: left;background-color: #f0f8ff;}#sk-container-id-3 div.sk-toggleable__content pre {margin: 0.2em;color: black;border-radius: 0.25em;background-color: #f0f8ff;}#sk-container-id-3 input.sk-toggleable__control:checked~div.sk-toggleable__content {max-height: 200px;max-width: 100%;overflow: auto;}#sk-container-id-3 input.sk-toggleable__control:checked~label.sk-toggleable__label-arrow:before {content: \"▾\";}#sk-container-id-3 div.sk-estimator input.sk-toggleable__control:checked~label.sk-toggleable__label {background-color: #d4ebff;}#sk-container-id-3 div.sk-label input.sk-toggleable__control:checked~label.sk-toggleable__label {background-color: #d4ebff;}#sk-container-id-3 input.sk-hidden--visually {border: 0;clip: rect(1px 1px 1px 1px);clip: rect(1px, 1px, 1px, 1px);height: 1px;margin: -1px;overflow: hidden;padding: 0;position: absolute;width: 1px;}#sk-container-id-3 div.sk-estimator {font-family: monospace;background-color: #f0f8ff;border: 1px dotted black;border-radius: 0.25em;box-sizing: border-box;margin-bottom: 0.5em;}#sk-container-id-3 div.sk-estimator:hover {background-color: #d4ebff;}#sk-container-id-3 div.sk-parallel-item::after {content: \"\";width: 100%;border-bottom: 1px solid gray;flex-grow: 1;}#sk-container-id-3 div.sk-label:hover label.sk-toggleable__label {background-color: #d4ebff;}#sk-container-id-3 div.sk-serial::before {content: \"\";position: absolute;border-left: 1px solid gray;box-sizing: border-box;top: 0;bottom: 0;left: 50%;z-index: 0;}#sk-container-id-3 div.sk-serial {display: flex;flex-direction: column;align-items: center;background-color: white;padding-right: 0.2em;padding-left: 0.2em;position: relative;}#sk-container-id-3 div.sk-item {position: relative;z-index: 1;}#sk-container-id-3 div.sk-parallel {display: flex;align-items: stretch;justify-content: center;background-color: white;position: relative;}#sk-container-id-3 div.sk-item::before, #sk-container-id-3 div.sk-parallel-item::before {content: \"\";position: absolute;border-left: 1px solid gray;box-sizing: border-box;top: 0;bottom: 0;left: 50%;z-index: -1;}#sk-container-id-3 div.sk-parallel-item {display: flex;flex-direction: column;z-index: 1;position: relative;background-color: white;}#sk-container-id-3 div.sk-parallel-item:first-child::after {align-self: flex-end;width: 50%;}#sk-container-id-3 div.sk-parallel-item:last-child::after {align-self: flex-start;width: 50%;}#sk-container-id-3 div.sk-parallel-item:only-child::after {width: 0;}#sk-container-id-3 div.sk-dashed-wrapped {border: 1px dashed gray;margin: 0 0.4em 0.5em 0.4em;box-sizing: border-box;padding-bottom: 0.4em;background-color: white;}#sk-container-id-3 div.sk-label label {font-family: monospace;font-weight: bold;display: inline-block;line-height: 1.2em;}#sk-container-id-3 div.sk-label-container {text-align: center;}#sk-container-id-3 div.sk-container {/* jupyter's `normalize.less` sets `[hidden] { display: none; }` but bootstrap.min.css set `[hidden] { display: none !important; }` so we also need the `!important` here to be able to override the default hidden behavior on the sphinx rendered scikit-learn.org. See: https://github.com/scikit-learn/scikit-learn/issues/21755 */display: inline-block !important;position: relative;}#sk-container-id-3 div.sk-text-repr-fallback {display: none;}</style><div id=\"sk-container-id-3\" class=\"sk-top-container\"><div class=\"sk-text-repr-fallback\"><pre>LogisticRegression(C=1.0, class_weight=None, dual=False, fit_intercept=True,\n",
       "                   intercept_scaling=1, l1_ratio=None, max_iter=100,\n",
       "                   multi_class=&#x27;auto&#x27;, n_jobs=None, penalty=&#x27;l2&#x27;,\n",
       "                   random_state=42, solver=&#x27;lbfgs&#x27;, tol=0.0001, verbose=0,\n",
       "                   warm_start=False)</pre><b>In a Jupyter environment, please rerun this cell to show the HTML representation or trust the notebook. <br />On GitHub, the HTML representation is unable to render, please try loading this page with nbviewer.org.</b></div><div class=\"sk-container\" hidden><div class=\"sk-item\"><div class=\"sk-estimator sk-toggleable\"><input class=\"sk-toggleable__control sk-hidden--visually\" id=\"sk-estimator-id-3\" type=\"checkbox\" checked><label for=\"sk-estimator-id-3\" class=\"sk-toggleable__label sk-toggleable__label-arrow\">LogisticRegression</label><div class=\"sk-toggleable__content\"><pre>LogisticRegression(C=1.0, class_weight=None, dual=False, fit_intercept=True,\n",
       "                   intercept_scaling=1, l1_ratio=None, max_iter=100,\n",
       "                   multi_class=&#x27;auto&#x27;, n_jobs=None, penalty=&#x27;l2&#x27;,\n",
       "                   random_state=42, solver=&#x27;lbfgs&#x27;, tol=0.0001, verbose=0,\n",
       "                   warm_start=False)</pre></div></div></div></div></div>"
      ],
      "text/plain": [
       "LogisticRegression(C=1.0, class_weight=None, dual=False, fit_intercept=True,\n",
       "                   intercept_scaling=1, l1_ratio=None, max_iter=100,\n",
       "                   multi_class='auto', n_jobs=None, penalty='l2',\n",
       "                   random_state=42, solver='lbfgs', tol=0.0001, verbose=0,\n",
       "                   warm_start=False)"
      ]
     },
     "execution_count": 68,
     "metadata": {},
     "output_type": "execute_result"
    }
   ],
   "source": [
    "logistic_regression_model.fit(X_train_encoded, y_train)\n"
   ]
  },
  {
   "cell_type": "code",
   "execution_count": 69,
   "metadata": {},
   "outputs": [],
   "source": [
    "from sklearn.metrics import accuracy_score\n",
    "\n",
    "y_pred = logistic_regression_model.predict(X_test_encoded)\n",
    "\n"
   ]
  },
  {
   "cell_type": "code",
   "execution_count": 70,
   "metadata": {},
   "outputs": [
    {
     "name": "stdout",
     "output_type": "stream",
     "text": [
      "Accuracy: 0.815471965933286\n"
     ]
    }
   ],
   "source": [
    "# Evaluate the model\n",
    "accuracy = accuracy_score(y_test, y_pred)\n",
    "print(f\"Accuracy: {accuracy}\")"
   ]
  },
  {
   "cell_type": "code",
   "execution_count": 72,
   "metadata": {},
   "outputs": [],
   "source": [
    "import pickle\n",
    "\n",
    "# Save the model\n",
    "with open('model.pkl', 'wb') as model_file:\n",
    "    pickle.dump(logistic_regression_model, model_file)\n",
    "\n",
    "# Load the model\n",
    "with open('model.pkl', 'rb') as model_file:\n",
    "    loaded_model = pickle.load(model_file)\n",
    "\n",
    "# Now you can use the loaded model for predictions\n",
    "predictions = loaded_model.predict(X_test_encoded)\n"
   ]
  },
  {
   "cell_type": "code",
   "execution_count": 73,
   "metadata": {},
   "outputs": [
    {
     "data": {
      "text/plain": [
       "array(['Yes', 'No', 'No', ..., 'No', 'No', 'Yes'], dtype=object)"
      ]
     },
     "execution_count": 73,
     "metadata": {},
     "output_type": "execute_result"
    }
   ],
   "source": [
    "predictions"
   ]
  },
  {
   "cell_type": "code",
   "execution_count": 75,
   "metadata": {},
   "outputs": [],
   "source": [
    "from sklearn.feature_selection import SelectFromModel\n"
   ]
  },
  {
   "cell_type": "code",
   "execution_count": null,
   "metadata": {},
   "outputs": [],
   "source": []
  }
 ],
 "metadata": {
  "kernelspec": {
   "display_name": "mlops",
   "language": "python",
   "name": "python3"
  },
  "language_info": {
   "codemirror_mode": {
    "name": "ipython",
    "version": 3
   },
   "file_extension": ".py",
   "mimetype": "text/x-python",
   "name": "python",
   "nbconvert_exporter": "python",
   "pygments_lexer": "ipython3",
   "version": "3.10.9"
  }
 },
 "nbformat": 4,
 "nbformat_minor": 2
}
